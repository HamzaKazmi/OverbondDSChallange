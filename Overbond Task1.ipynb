{
 "cells": [
  {
   "cell_type": "code",
   "execution_count": 1,
   "metadata": {},
   "outputs": [],
   "source": [
    "import pandas as pd\n",
    "import numpy as np"
   ]
  },
  {
   "cell_type": "code",
   "execution_count": 2,
   "metadata": {},
   "outputs": [],
   "source": [
    "df = pd.read_csv(\"documents/overbond_interview/secondaries.csv\")"
   ]
  },
  {
   "cell_type": "code",
   "execution_count": 3,
   "metadata": {},
   "outputs": [],
   "source": [
    "#Lets start with finding and remove any Nan values and outliers"
   ]
  },
  {
   "cell_type": "code",
   "execution_count": 4,
   "metadata": {},
   "outputs": [
    {
     "data": {
      "text/plain": [
       "Unnamed: 0                      0\n",
       "Unnamed: 0.1                    0\n",
       "security_id                     0\n",
       "amount                          0\n",
       "issue_date                      0\n",
       "issue_yield                   122\n",
       "maturity_date                   0\n",
       "coupon_class                    0\n",
       "commission_percent            368\n",
       "current_amount_outstanding      0\n",
       "cusip                         118\n",
       "coupon_rate                     0\n",
       "currency                        0\n",
       "isin                            0\n",
       "capital_tier                  368\n",
       "seniority                       0\n",
       "name                            0\n",
       "sector                          0\n",
       "trade_date                      0\n",
       "bid_yield                       0\n",
       "ask_yield                       0\n",
       "high_yield                      1\n",
       "low_yield                       1\n",
       "dtype: int64"
      ]
     },
     "execution_count": 4,
     "metadata": {},
     "output_type": "execute_result"
    }
   ],
   "source": [
    "#Getting sum of all nan values\n",
    "df.isnull().sum(axis = 0)\n"
   ]
  },
  {
   "cell_type": "code",
   "execution_count": 5,
   "metadata": {},
   "outputs": [],
   "source": [
    "#commission_percent and capisnital_tier are null for all rows and can be droppe\n",
    "df.drop(['commission_percent', 'capital_tier'], axis=1, inplace=True)\n"
   ]
  },
  {
   "cell_type": "code",
   "execution_count": 6,
   "metadata": {},
   "outputs": [
    {
     "data": {
      "text/plain": [
       "Unnamed: 0                      int64\n",
       "Unnamed: 0.1                    int64\n",
       "security_id                     int64\n",
       "amount                        float64\n",
       "issue_date                     object\n",
       "issue_yield                   float64\n",
       "maturity_date                  object\n",
       "coupon_class                   object\n",
       "current_amount_outstanding    float64\n",
       "cusip                          object\n",
       "coupon_rate                   float64\n",
       "currency                       object\n",
       "isin                           object\n",
       "seniority                      object\n",
       "name                           object\n",
       "sector                          int64\n",
       "trade_date                     object\n",
       "bid_yield                     float64\n",
       "ask_yield                     float64\n",
       "high_yield                    float64\n",
       "low_yield                     float64\n",
       "dtype: object"
      ]
     },
     "execution_count": 6,
     "metadata": {},
     "output_type": "execute_result"
    }
   ],
   "source": [
    "#Info on all the data types in our df\n",
    "df.dtypes\n"
   ]
  },
  {
   "cell_type": "code",
   "execution_count": 7,
   "metadata": {},
   "outputs": [
    {
     "data": {
      "text/plain": [
       "0"
      ]
     },
     "execution_count": 7,
     "metadata": {},
     "output_type": "execute_result"
    }
   ],
   "source": [
    "#Checking for duplicate values\n",
    "df.duplicated().sum()\n"
   ]
  },
  {
   "cell_type": "code",
   "execution_count": 8,
   "metadata": {},
   "outputs": [
    {
     "data": {
      "text/html": [
       "<div>\n",
       "<style scoped>\n",
       "    .dataframe tbody tr th:only-of-type {\n",
       "        vertical-align: middle;\n",
       "    }\n",
       "\n",
       "    .dataframe tbody tr th {\n",
       "        vertical-align: top;\n",
       "    }\n",
       "\n",
       "    .dataframe thead th {\n",
       "        text-align: right;\n",
       "    }\n",
       "</style>\n",
       "<table border=\"1\" class=\"dataframe\">\n",
       "  <thead>\n",
       "    <tr style=\"text-align: right;\">\n",
       "      <th></th>\n",
       "      <th>Unnamed: 0</th>\n",
       "      <th>Unnamed: 0.1</th>\n",
       "      <th>security_id</th>\n",
       "      <th>amount</th>\n",
       "      <th>issue_yield</th>\n",
       "      <th>current_amount_outstanding</th>\n",
       "      <th>coupon_rate</th>\n",
       "      <th>sector</th>\n",
       "      <th>bid_yield</th>\n",
       "      <th>ask_yield</th>\n",
       "      <th>high_yield</th>\n",
       "      <th>low_yield</th>\n",
       "    </tr>\n",
       "  </thead>\n",
       "  <tbody>\n",
       "    <tr>\n",
       "      <td>count</td>\n",
       "      <td>368.000000</td>\n",
       "      <td>368.000000</td>\n",
       "      <td>368.000000</td>\n",
       "      <td>3.680000e+02</td>\n",
       "      <td>246.000000</td>\n",
       "      <td>3.680000e+02</td>\n",
       "      <td>368.000000</td>\n",
       "      <td>3.680000e+02</td>\n",
       "      <td>368.000000</td>\n",
       "      <td>368.000000</td>\n",
       "      <td>367.000000</td>\n",
       "      <td>367.000000</td>\n",
       "    </tr>\n",
       "    <tr>\n",
       "      <td>mean</td>\n",
       "      <td>183.500000</td>\n",
       "      <td>183.500000</td>\n",
       "      <td>101673.891304</td>\n",
       "      <td>2.379517e+10</td>\n",
       "      <td>277.046401</td>\n",
       "      <td>2.794599e+10</td>\n",
       "      <td>3.273957</td>\n",
       "      <td>4.249232e+07</td>\n",
       "      <td>209.993804</td>\n",
       "      <td>206.406929</td>\n",
       "      <td>217.419619</td>\n",
       "      <td>206.837330</td>\n",
       "    </tr>\n",
       "    <tr>\n",
       "      <td>std</td>\n",
       "      <td>106.376689</td>\n",
       "      <td>106.376689</td>\n",
       "      <td>131788.137163</td>\n",
       "      <td>1.725329e+10</td>\n",
       "      <td>180.367984</td>\n",
       "      <td>2.055782e+10</td>\n",
       "      <td>1.859101</td>\n",
       "      <td>4.271337e+06</td>\n",
       "      <td>100.392680</td>\n",
       "      <td>99.215808</td>\n",
       "      <td>95.161330</td>\n",
       "      <td>99.209206</td>\n",
       "    </tr>\n",
       "    <tr>\n",
       "      <td>min</td>\n",
       "      <td>0.000000</td>\n",
       "      <td>0.000000</td>\n",
       "      <td>1140.000000</td>\n",
       "      <td>6.570000e+06</td>\n",
       "      <td>0.000000</td>\n",
       "      <td>0.000000e+00</td>\n",
       "      <td>0.875000</td>\n",
       "      <td>4.010101e+07</td>\n",
       "      <td>-408.700000</td>\n",
       "      <td>-433.200000</td>\n",
       "      <td>147.300000</td>\n",
       "      <td>-474.000000</td>\n",
       "    </tr>\n",
       "    <tr>\n",
       "      <td>25%</td>\n",
       "      <td>91.750000</td>\n",
       "      <td>91.750000</td>\n",
       "      <td>9692.250000</td>\n",
       "      <td>4.499999e+09</td>\n",
       "      <td>169.875000</td>\n",
       "      <td>3.414068e+09</td>\n",
       "      <td>1.875000</td>\n",
       "      <td>4.010101e+07</td>\n",
       "      <td>146.675000</td>\n",
       "      <td>145.997500</td>\n",
       "      <td>152.450000</td>\n",
       "      <td>145.600000</td>\n",
       "    </tr>\n",
       "    <tr>\n",
       "      <td>50%</td>\n",
       "      <td>183.500000</td>\n",
       "      <td>183.500000</td>\n",
       "      <td>26118.500000</td>\n",
       "      <td>2.893881e+10</td>\n",
       "      <td>230.050000</td>\n",
       "      <td>2.932534e+10</td>\n",
       "      <td>2.625000</td>\n",
       "      <td>4.010101e+07</td>\n",
       "      <td>171.800000</td>\n",
       "      <td>167.985000</td>\n",
       "      <td>176.900000</td>\n",
       "      <td>171.200000</td>\n",
       "    </tr>\n",
       "    <tr>\n",
       "      <td>75%</td>\n",
       "      <td>275.250000</td>\n",
       "      <td>275.250000</td>\n",
       "      <td>308972.250000</td>\n",
       "      <td>3.500003e+10</td>\n",
       "      <td>311.375000</td>\n",
       "      <td>3.911439e+10</td>\n",
       "      <td>4.450000</td>\n",
       "      <td>4.010101e+07</td>\n",
       "      <td>212.850000</td>\n",
       "      <td>203.412500</td>\n",
       "      <td>220.500000</td>\n",
       "      <td>208.900000</td>\n",
       "    </tr>\n",
       "    <tr>\n",
       "      <td>max</td>\n",
       "      <td>367.000000</td>\n",
       "      <td>367.000000</td>\n",
       "      <td>337554.000000</td>\n",
       "      <td>8.442707e+10</td>\n",
       "      <td>887.000000</td>\n",
       "      <td>7.511223e+10</td>\n",
       "      <td>8.750000</td>\n",
       "      <td>5.010102e+07</td>\n",
       "      <td>454.200000</td>\n",
       "      <td>449.200000</td>\n",
       "      <td>461.700000</td>\n",
       "      <td>449.200000</td>\n",
       "    </tr>\n",
       "  </tbody>\n",
       "</table>\n",
       "</div>"
      ],
      "text/plain": [
       "       Unnamed: 0  Unnamed: 0.1    security_id        amount  issue_yield  \\\n",
       "count  368.000000    368.000000     368.000000  3.680000e+02   246.000000   \n",
       "mean   183.500000    183.500000  101673.891304  2.379517e+10   277.046401   \n",
       "std    106.376689    106.376689  131788.137163  1.725329e+10   180.367984   \n",
       "min      0.000000      0.000000    1140.000000  6.570000e+06     0.000000   \n",
       "25%     91.750000     91.750000    9692.250000  4.499999e+09   169.875000   \n",
       "50%    183.500000    183.500000   26118.500000  2.893881e+10   230.050000   \n",
       "75%    275.250000    275.250000  308972.250000  3.500003e+10   311.375000   \n",
       "max    367.000000    367.000000  337554.000000  8.442707e+10   887.000000   \n",
       "\n",
       "       current_amount_outstanding  coupon_rate        sector   bid_yield  \\\n",
       "count                3.680000e+02   368.000000  3.680000e+02  368.000000   \n",
       "mean                 2.794599e+10     3.273957  4.249232e+07  209.993804   \n",
       "std                  2.055782e+10     1.859101  4.271337e+06  100.392680   \n",
       "min                  0.000000e+00     0.875000  4.010101e+07 -408.700000   \n",
       "25%                  3.414068e+09     1.875000  4.010101e+07  146.675000   \n",
       "50%                  2.932534e+10     2.625000  4.010101e+07  171.800000   \n",
       "75%                  3.911439e+10     4.450000  4.010101e+07  212.850000   \n",
       "max                  7.511223e+10     8.750000  5.010102e+07  454.200000   \n",
       "\n",
       "        ask_yield  high_yield   low_yield  \n",
       "count  368.000000  367.000000  367.000000  \n",
       "mean   206.406929  217.419619  206.837330  \n",
       "std     99.215808   95.161330   99.209206  \n",
       "min   -433.200000  147.300000 -474.000000  \n",
       "25%    145.997500  152.450000  145.600000  \n",
       "50%    167.985000  176.900000  171.200000  \n",
       "75%    203.412500  220.500000  208.900000  \n",
       "max    449.200000  461.700000  449.200000  "
      ]
     },
     "execution_count": 8,
     "metadata": {},
     "output_type": "execute_result"
    }
   ],
   "source": [
    "df.describe()\n"
   ]
  },
  {
   "cell_type": "code",
   "execution_count": 9,
   "metadata": {},
   "outputs": [],
   "source": [
    "#Converting string date to datetime object\n",
    "df['trade_date'] =  pd.to_datetime(df['trade_date'], format='%Y-%m-%d')\n",
    "df['issue_date'] =  pd.to_datetime(df['issue_date'], format='%Y-%m-%d')\n"
   ]
  },
  {
   "cell_type": "code",
   "execution_count": 10,
   "metadata": {},
   "outputs": [],
   "source": [
    "#Creating Tenor column using difference in trade_date and issue_date year\n",
    "df['Tenor'] = pd.DatetimeIndex(df['trade_date']).year - pd.DatetimeIndex(df['issue_date']).year\n"
   ]
  },
  {
   "cell_type": "code",
   "execution_count": 11,
   "metadata": {},
   "outputs": [
    {
     "data": {
      "text/plain": [
       "count    368.000000\n",
       "mean       5.214674\n",
       "std        6.028552\n",
       "min        0.000000\n",
       "25%        2.000000\n",
       "50%        3.000000\n",
       "75%        6.000000\n",
       "max       29.000000\n",
       "Name: Tenor, dtype: float64"
      ]
     },
     "execution_count": 11,
     "metadata": {},
     "output_type": "execute_result"
    }
   ],
   "source": [
    "#We can see that the max value of 29 is well above the mean and 75th percentile and it might be an outlier and will need to be checked \n",
    "df['Tenor'].describe()"
   ]
  },
  {
   "cell_type": "code",
   "execution_count": 12,
   "metadata": {},
   "outputs": [],
   "source": [
    "df['name'].unique()\n",
    "df1 = df.loc[df['name'] == 'AT&T Inc']\n",
    "df2 = df.loc[df['name'] == 'United States Treasury']"
   ]
  },
  {
   "cell_type": "code",
   "execution_count": null,
   "metadata": {},
   "outputs": [],
   "source": []
  },
  {
   "cell_type": "code",
   "execution_count": 13,
   "metadata": {},
   "outputs": [],
   "source": [
    "df2 = df2.groupby(['name','Tenor'])['bid_yield'].sum().reset_index()\n",
    "df1 = df1.groupby(['name','Tenor'])['bid_yield'].sum().reset_index()\n"
   ]
  },
  {
   "cell_type": "code",
   "execution_count": 28,
   "metadata": {},
   "outputs": [],
   "source": [
    "df1 = df1.loc[df1['Tenor'].isin([2,3,5,7,10,30])]\n",
    "df2 = df2.loc[df2['Tenor'].isin([2,3,5,7,10,30])]\n"
   ]
  },
  {
   "cell_type": "code",
   "execution_count": 29,
   "metadata": {},
   "outputs": [],
   "source": [
    "#Here i do a inner join to the the two df based on tenor number\n",
    "#****I have assumed that if either the company or goverment bid_yield for a tenor is nan it will not be 0 but rather not counted\n",
    "dff = pd.merge(df1, df2, left_index=True, right_index=True)\n"
   ]
  },
  {
   "cell_type": "code",
   "execution_count": 30,
   "metadata": {},
   "outputs": [],
   "source": [
    "dff['Spread values'] = dff['bid_yield_x'] - dff['bid_yield_y']"
   ]
  },
  {
   "cell_type": "code",
   "execution_count": 31,
   "metadata": {},
   "outputs": [],
   "source": [
    "dff.drop(['bid_yield_x', 'name_y', 'Tenor_y', 'bid_yield_y'], axis=1, inplace=True)\n"
   ]
  },
  {
   "cell_type": "code",
   "execution_count": 32,
   "metadata": {},
   "outputs": [],
   "source": [
    "dff = dff.rename(columns={'name_x': 'company_name', 'Tenor_x': 'standard tenor'})\n"
   ]
  },
  {
   "cell_type": "code",
   "execution_count": 33,
   "metadata": {},
   "outputs": [
    {
     "data": {
      "text/html": [
       "<div>\n",
       "<style scoped>\n",
       "    .dataframe tbody tr th:only-of-type {\n",
       "        vertical-align: middle;\n",
       "    }\n",
       "\n",
       "    .dataframe tbody tr th {\n",
       "        vertical-align: top;\n",
       "    }\n",
       "\n",
       "    .dataframe thead th {\n",
       "        text-align: right;\n",
       "    }\n",
       "</style>\n",
       "<table border=\"1\" class=\"dataframe\">\n",
       "  <thead>\n",
       "    <tr style=\"text-align: right;\">\n",
       "      <th></th>\n",
       "      <th>company_name</th>\n",
       "      <th>standard tenor</th>\n",
       "      <th>Spread values</th>\n",
       "    </tr>\n",
       "  </thead>\n",
       "  <tbody>\n",
       "    <tr>\n",
       "      <td>3</td>\n",
       "      <td>AT&amp;T Inc</td>\n",
       "      <td>3</td>\n",
       "      <td>750.70</td>\n",
       "    </tr>\n",
       "    <tr>\n",
       "      <td>5</td>\n",
       "      <td>AT&amp;T Inc</td>\n",
       "      <td>5</td>\n",
       "      <td>-3180.00</td>\n",
       "    </tr>\n",
       "    <tr>\n",
       "      <td>7</td>\n",
       "      <td>AT&amp;T Inc</td>\n",
       "      <td>7</td>\n",
       "      <td>-344.51</td>\n",
       "    </tr>\n",
       "    <tr>\n",
       "      <td>10</td>\n",
       "      <td>AT&amp;T Inc</td>\n",
       "      <td>10</td>\n",
       "      <td>-505.20</td>\n",
       "    </tr>\n",
       "  </tbody>\n",
       "</table>\n",
       "</div>"
      ],
      "text/plain": [
       "   company_name  standard tenor  Spread values\n",
       "3      AT&T Inc               3         750.70\n",
       "5      AT&T Inc               5       -3180.00\n",
       "7      AT&T Inc               7        -344.51\n",
       "10     AT&T Inc              10        -505.20"
      ]
     },
     "execution_count": 33,
     "metadata": {},
     "output_type": "execute_result"
    }
   ],
   "source": [
    "dff"
   ]
  },
  {
   "cell_type": "code",
   "execution_count": null,
   "metadata": {},
   "outputs": [],
   "source": []
  },
  {
   "cell_type": "code",
   "execution_count": null,
   "metadata": {},
   "outputs": [],
   "source": []
  }
 ],
 "metadata": {
  "kernelspec": {
   "display_name": "Python 3",
   "language": "python",
   "name": "python3"
  },
  "language_info": {
   "codemirror_mode": {
    "name": "ipython",
    "version": 3
   },
   "file_extension": ".py",
   "mimetype": "text/x-python",
   "name": "python",
   "nbconvert_exporter": "python",
   "pygments_lexer": "ipython3",
   "version": "3.7.4"
  }
 },
 "nbformat": 4,
 "nbformat_minor": 2
}
