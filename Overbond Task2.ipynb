{
 "cells": [
  {
   "cell_type": "markdown",
   "metadata": {},
   "source": [
    "1. How do you approach this problem? What is your high-level solution?\n",
    "\n",
    "    I will start off by identifying my independent and depedent variables. Then I will focus on identifying coeraltions and any abnormalities. \n",
    "\n",
    "\n",
    "2. How do you create a target variable given historical data? Please create a target\n",
    "variable to be used for the Machine Learning algorithm?\n",
    "\n",
    "    Target variable will be the dependent variable y. It depends on the problem we are solving and we can use coerlations to find the target variable.\n",
    "\n",
    "\n",
    "\n",
    "3. What are the possible features that can be extracted to predict issuance? Create one\n",
    "feature that you think would be highly correlated to Target from the previous step?\n",
    "\n",
    "    current_amount_outstanding has the most impact on amount\n",
    "\n",
    "\n",
    "4. What would be the best metric to evaluate your solution? Why?\n",
    "     \n",
    "     MSE is best for this problem, as it is normally distributed and it is better to prnalize outliers more in comparism to MAE."
   ]
  },
  {
   "cell_type": "code",
   "execution_count": 1,
   "metadata": {},
   "outputs": [],
   "source": [
    "import pandas as pd\n",
    "import numpy as np\n",
    "import seaborn as sns #visualisation\n",
    "import matplotlib.pyplot as plt #visualisation\n",
    "%matplotlib inline \n",
    "sns.set(color_codes=True)\n",
    "df = pd.read_csv(\"documents/overbond_interview/APPL.csv\")"
   ]
  },
  {
   "cell_type": "code",
   "execution_count": 2,
   "metadata": {},
   "outputs": [],
   "source": [
    "#Dropping column as all rows are null\n",
    "df.isnull().sum()\n",
    "df.drop(['commission_percent'], axis=1, inplace=True)"
   ]
  },
  {
   "cell_type": "code",
   "execution_count": 3,
   "metadata": {},
   "outputs": [
    {
     "data": {
      "text/html": [
       "<div>\n",
       "<style scoped>\n",
       "    .dataframe tbody tr th:only-of-type {\n",
       "        vertical-align: middle;\n",
       "    }\n",
       "\n",
       "    .dataframe tbody tr th {\n",
       "        vertical-align: top;\n",
       "    }\n",
       "\n",
       "    .dataframe thead th {\n",
       "        text-align: right;\n",
       "    }\n",
       "</style>\n",
       "<table border=\"1\" class=\"dataframe\">\n",
       "  <thead>\n",
       "    <tr style=\"text-align: right;\">\n",
       "      <th></th>\n",
       "      <th>Unnamed: 0</th>\n",
       "      <th>security_id</th>\n",
       "      <th>amount</th>\n",
       "      <th>issue_yield</th>\n",
       "      <th>current_amount_outstanding</th>\n",
       "      <th>coupon_rate</th>\n",
       "      <th>sector</th>\n",
       "      <th>organization_id</th>\n",
       "    </tr>\n",
       "  </thead>\n",
       "  <tbody>\n",
       "    <tr>\n",
       "      <td>Unnamed: 0</td>\n",
       "      <td>1.000000</td>\n",
       "      <td>-0.311976</td>\n",
       "      <td>-0.106420</td>\n",
       "      <td>-0.048672</td>\n",
       "      <td>-0.102162</td>\n",
       "      <td>0.029352</td>\n",
       "      <td>NaN</td>\n",
       "      <td>NaN</td>\n",
       "    </tr>\n",
       "    <tr>\n",
       "      <td>security_id</td>\n",
       "      <td>-0.311976</td>\n",
       "      <td>1.000000</td>\n",
       "      <td>0.431624</td>\n",
       "      <td>0.022448</td>\n",
       "      <td>0.432099</td>\n",
       "      <td>-0.138243</td>\n",
       "      <td>NaN</td>\n",
       "      <td>NaN</td>\n",
       "    </tr>\n",
       "    <tr>\n",
       "      <td>amount</td>\n",
       "      <td>-0.106420</td>\n",
       "      <td>0.431624</td>\n",
       "      <td>1.000000</td>\n",
       "      <td>-0.307005</td>\n",
       "      <td>0.999799</td>\n",
       "      <td>-0.255075</td>\n",
       "      <td>NaN</td>\n",
       "      <td>NaN</td>\n",
       "    </tr>\n",
       "    <tr>\n",
       "      <td>issue_yield</td>\n",
       "      <td>-0.048672</td>\n",
       "      <td>0.022448</td>\n",
       "      <td>-0.307005</td>\n",
       "      <td>1.000000</td>\n",
       "      <td>-0.303292</td>\n",
       "      <td>0.991633</td>\n",
       "      <td>NaN</td>\n",
       "      <td>NaN</td>\n",
       "    </tr>\n",
       "    <tr>\n",
       "      <td>current_amount_outstanding</td>\n",
       "      <td>-0.102162</td>\n",
       "      <td>0.432099</td>\n",
       "      <td>0.999799</td>\n",
       "      <td>-0.303292</td>\n",
       "      <td>1.000000</td>\n",
       "      <td>-0.249502</td>\n",
       "      <td>NaN</td>\n",
       "      <td>NaN</td>\n",
       "    </tr>\n",
       "    <tr>\n",
       "      <td>coupon_rate</td>\n",
       "      <td>0.029352</td>\n",
       "      <td>-0.138243</td>\n",
       "      <td>-0.255075</td>\n",
       "      <td>0.991633</td>\n",
       "      <td>-0.249502</td>\n",
       "      <td>1.000000</td>\n",
       "      <td>NaN</td>\n",
       "      <td>NaN</td>\n",
       "    </tr>\n",
       "    <tr>\n",
       "      <td>sector</td>\n",
       "      <td>NaN</td>\n",
       "      <td>NaN</td>\n",
       "      <td>NaN</td>\n",
       "      <td>NaN</td>\n",
       "      <td>NaN</td>\n",
       "      <td>NaN</td>\n",
       "      <td>NaN</td>\n",
       "      <td>NaN</td>\n",
       "    </tr>\n",
       "    <tr>\n",
       "      <td>organization_id</td>\n",
       "      <td>NaN</td>\n",
       "      <td>NaN</td>\n",
       "      <td>NaN</td>\n",
       "      <td>NaN</td>\n",
       "      <td>NaN</td>\n",
       "      <td>NaN</td>\n",
       "      <td>NaN</td>\n",
       "      <td>NaN</td>\n",
       "    </tr>\n",
       "  </tbody>\n",
       "</table>\n",
       "</div>"
      ],
      "text/plain": [
       "                            Unnamed: 0  security_id    amount  issue_yield  \\\n",
       "Unnamed: 0                    1.000000    -0.311976 -0.106420    -0.048672   \n",
       "security_id                  -0.311976     1.000000  0.431624     0.022448   \n",
       "amount                       -0.106420     0.431624  1.000000    -0.307005   \n",
       "issue_yield                  -0.048672     0.022448 -0.307005     1.000000   \n",
       "current_amount_outstanding   -0.102162     0.432099  0.999799    -0.303292   \n",
       "coupon_rate                   0.029352    -0.138243 -0.255075     0.991633   \n",
       "sector                             NaN          NaN       NaN          NaN   \n",
       "organization_id                    NaN          NaN       NaN          NaN   \n",
       "\n",
       "                            current_amount_outstanding  coupon_rate  sector  \\\n",
       "Unnamed: 0                                   -0.102162     0.029352     NaN   \n",
       "security_id                                   0.432099    -0.138243     NaN   \n",
       "amount                                        0.999799    -0.255075     NaN   \n",
       "issue_yield                                  -0.303292     0.991633     NaN   \n",
       "current_amount_outstanding                    1.000000    -0.249502     NaN   \n",
       "coupon_rate                                  -0.249502     1.000000     NaN   \n",
       "sector                                             NaN          NaN     NaN   \n",
       "organization_id                                    NaN          NaN     NaN   \n",
       "\n",
       "                            organization_id  \n",
       "Unnamed: 0                              NaN  \n",
       "security_id                             NaN  \n",
       "amount                                  NaN  \n",
       "issue_yield                             NaN  \n",
       "current_amount_outstanding              NaN  \n",
       "coupon_rate                             NaN  \n",
       "sector                                  NaN  \n",
       "organization_id                         NaN  "
      ]
     },
     "execution_count": 3,
     "metadata": {},
     "output_type": "execute_result"
    },
    {
     "data": {
      "image/png": "[encoded data removed]",
      "text/plain": [
       "<Figure size 1440x720 with 2 Axes>"
      ]
     },
     "metadata": {
      "needs_background": "light"
     },
     "output_type": "display_data"
    }
   ],
   "source": [
    "plt.figure(figsize=(20,10))\n",
    "c= df.corr()\n",
    "sns.heatmap(c,annot=True)\n",
    "c"
   ]
  },
  {
   "cell_type": "code",
   "execution_count": 4,
   "metadata": {},
   "outputs": [
    {
     "data": {
      "text/plain": [
       "array(['FIX', 'FLT'], dtype=object)"
      ]
     },
     "execution_count": 4,
     "metadata": {},
     "output_type": "execute_result"
    }
   ],
   "source": [
    "#Out of the following categorical colums, I will create dummy variables for currency and coupon_class as they are only ones to have more than one unique value\n",
    "df['currency'].unique()\n",
    "df['sector_name'].unique()\n",
    "df['organization_id'].unique()\n",
    "df['coupon_class'].unique()\n"
   ]
  },
  {
   "cell_type": "code",
   "execution_count": 5,
   "metadata": {},
   "outputs": [
    {
     "data": {
      "text/plain": [
       "array([nan, '037833AG5', '037833AJ9', '037833BZ2', '037833CB4',\n",
       "       '037833CD0', '037833CC2', '037833CT5', '037833CQ1', '037833CU2',\n",
       "       '037833CY4', '037833DK3', '037833DE7', '037833DH0', '037833DJ6',\n",
       "       '037833AK6', '037833AL4', '037833AP5', '037833AS9', '037833AR1',\n",
       "       '037833AT7', '037833AQ3', '037833BA7', '037833AW0', '037833AZ3',\n",
       "       '037833AY6', '037833BD1', '037833BF6', '037833BR0', '037833BT6',\n",
       "       '037833BE9', '037833BM1', '037833BY5', '037833BS8', '037833BK5',\n",
       "       '037833BQ2', '037833BX7', '037833BW9', '037833BU3', '037833BG4',\n",
       "       '037833BH2', '037833AV2', '037833BL3', '037833CP3', '037833CA6',\n",
       "       '037833CM0', '037833CJ7', '037833CH1', '037833CE8', '037833CK4',\n",
       "       '037833CG3', '037833BN9', '037833CX6', '037833AX8', '037833CR9',\n",
       "       '037833CS7', '037833CL2', '037833CF5', '037833CN8', '037833DC1',\n",
       "       '037833DB3', '037833DD9', '037833CZ1', '037833AU4', '037833DG2',\n",
       "       '037833DF4', '037833CV0', '037833CW8'], dtype=object)"
      ]
     },
     "execution_count": 5,
     "metadata": {},
     "output_type": "execute_result"
    }
   ],
   "source": [
    "#I will not be creataing dummy variables for security_id and cusip as it will create too many columns\n",
    "df['security_id'].unique()\n",
    "df['cusip'].unique()"
   ]
  },
  {
   "cell_type": "code",
   "execution_count": 6,
   "metadata": {},
   "outputs": [],
   "source": [
    "#We can notice multicollinearity between our two independent variables issue_yield and coupon_rate. \n",
    "#This can affect our final resulkt and therefore needs to be removed\n",
    "# As coupon rate has better coeraltion with our dependent variable, I will be removing issue_yield \n",
    "df.drop(['issue_yield'], axis=1, inplace=True)\n"
   ]
  },
  {
   "cell_type": "code",
   "execution_count": 7,
   "metadata": {},
   "outputs": [],
   "source": [
    "#Added dummy variables\n",
    "df = pd.get_dummies(df, columns=['coupon_class', 'currency'])\n",
    "df = df.loc[:,['amount', 'current_amount_outstanding','coupon_rate','coupon_class_FIX', 'coupon_class_FLT', 'currency_CAD', 'currency_CHF',\n",
    "       'currency_EUR', 'currency_GBP', 'currency_JPY', 'currency_USD']]"
   ]
  },
  {
   "cell_type": "code",
   "execution_count": 8,
   "metadata": {},
   "outputs": [
    {
     "data": {
      "text/plain": [
       "<matplotlib.axes._subplots.AxesSubplot at 0x1a17a75710>"
      ]
     },
     "execution_count": 8,
     "metadata": {},
     "output_type": "execute_result"
    },
    {
     "data": {
      "image/png": "[encoded data removed]",
      "text/plain": [
       "<Figure size 432x288 with 1 Axes>"
      ]
     },
     "metadata": {
      "needs_background": "light"
     },
     "output_type": "display_data"
    }
   ],
   "source": [
    "#We can see that it is a linear relation\n",
    "\n",
    "df.plot(x='current_amount_outstanding', y='amount')\n"
   ]
  },
  {
   "cell_type": "code",
   "execution_count": 9,
   "metadata": {},
   "outputs": [],
   "source": [
    "#I have decided to use the linear regression model as we are dealing with continuous variable, and the relationship between dependent and independent variables are linear\n"
   ]
  },
  {
   "cell_type": "code",
   "execution_count": 10,
   "metadata": {},
   "outputs": [
    {
     "data": {
      "text/html": [
       "<div>\n",
       "<style scoped>\n",
       "    .dataframe tbody tr th:only-of-type {\n",
       "        vertical-align: middle;\n",
       "    }\n",
       "\n",
       "    .dataframe tbody tr th {\n",
       "        vertical-align: top;\n",
       "    }\n",
       "\n",
       "    .dataframe thead th {\n",
       "        text-align: right;\n",
       "    }\n",
       "</style>\n",
       "<table border=\"1\" class=\"dataframe\">\n",
       "  <thead>\n",
       "    <tr style=\"text-align: right;\">\n",
       "      <th></th>\n",
       "      <th>amount</th>\n",
       "      <th>current_amount_outstanding</th>\n",
       "      <th>coupon_rate</th>\n",
       "      <th>coupon_class_FIX</th>\n",
       "      <th>coupon_class_FLT</th>\n",
       "      <th>currency_CAD</th>\n",
       "      <th>currency_CHF</th>\n",
       "      <th>currency_EUR</th>\n",
       "      <th>currency_GBP</th>\n",
       "      <th>currency_JPY</th>\n",
       "      <th>currency_USD</th>\n",
       "    </tr>\n",
       "  </thead>\n",
       "  <tbody>\n",
       "    <tr>\n",
       "      <td>count</td>\n",
       "      <td>7.300000e+01</td>\n",
       "      <td>7.300000e+01</td>\n",
       "      <td>73.000000</td>\n",
       "      <td>73.000000</td>\n",
       "      <td>73.000000</td>\n",
       "      <td>73.000000</td>\n",
       "      <td>73.000000</td>\n",
       "      <td>73.000000</td>\n",
       "      <td>73.000000</td>\n",
       "      <td>73.000000</td>\n",
       "      <td>73.000000</td>\n",
       "    </tr>\n",
       "    <tr>\n",
       "      <td>mean</td>\n",
       "      <td>4.810644e+09</td>\n",
       "      <td>4.769548e+09</td>\n",
       "      <td>2.552392</td>\n",
       "      <td>0.835616</td>\n",
       "      <td>0.164384</td>\n",
       "      <td>0.013699</td>\n",
       "      <td>0.027397</td>\n",
       "      <td>0.082192</td>\n",
       "      <td>0.027397</td>\n",
       "      <td>0.013699</td>\n",
       "      <td>0.835616</td>\n",
       "    </tr>\n",
       "    <tr>\n",
       "      <td>std</td>\n",
       "      <td>2.910842e+10</td>\n",
       "      <td>2.911527e+10</td>\n",
       "      <td>1.008660</td>\n",
       "      <td>0.373188</td>\n",
       "      <td>0.373188</td>\n",
       "      <td>0.117041</td>\n",
       "      <td>0.164368</td>\n",
       "      <td>0.276557</td>\n",
       "      <td>0.164368</td>\n",
       "      <td>0.117041</td>\n",
       "      <td>0.373188</td>\n",
       "    </tr>\n",
       "    <tr>\n",
       "      <td>min</td>\n",
       "      <td>3.500000e+08</td>\n",
       "      <td>0.000000e+00</td>\n",
       "      <td>0.350000</td>\n",
       "      <td>0.000000</td>\n",
       "      <td>0.000000</td>\n",
       "      <td>0.000000</td>\n",
       "      <td>0.000000</td>\n",
       "      <td>0.000000</td>\n",
       "      <td>0.000000</td>\n",
       "      <td>0.000000</td>\n",
       "      <td>0.000000</td>\n",
       "    </tr>\n",
       "    <tr>\n",
       "      <td>25%</td>\n",
       "      <td>1.000000e+09</td>\n",
       "      <td>1.000000e+09</td>\n",
       "      <td>1.900000</td>\n",
       "      <td>1.000000</td>\n",
       "      <td>0.000000</td>\n",
       "      <td>0.000000</td>\n",
       "      <td>0.000000</td>\n",
       "      <td>0.000000</td>\n",
       "      <td>0.000000</td>\n",
       "      <td>0.000000</td>\n",
       "      <td>1.000000</td>\n",
       "    </tr>\n",
       "    <tr>\n",
       "      <td>50%</td>\n",
       "      <td>1.250000e+09</td>\n",
       "      <td>1.250000e+09</td>\n",
       "      <td>2.513000</td>\n",
       "      <td>1.000000</td>\n",
       "      <td>0.000000</td>\n",
       "      <td>0.000000</td>\n",
       "      <td>0.000000</td>\n",
       "      <td>0.000000</td>\n",
       "      <td>0.000000</td>\n",
       "      <td>0.000000</td>\n",
       "      <td>1.000000</td>\n",
       "    </tr>\n",
       "    <tr>\n",
       "      <td>75%</td>\n",
       "      <td>2.000000e+09</td>\n",
       "      <td>1.750000e+09</td>\n",
       "      <td>3.200000</td>\n",
       "      <td>1.000000</td>\n",
       "      <td>0.000000</td>\n",
       "      <td>0.000000</td>\n",
       "      <td>0.000000</td>\n",
       "      <td>0.000000</td>\n",
       "      <td>0.000000</td>\n",
       "      <td>0.000000</td>\n",
       "      <td>1.000000</td>\n",
       "    </tr>\n",
       "    <tr>\n",
       "      <td>max</td>\n",
       "      <td>2.500000e+11</td>\n",
       "      <td>2.500000e+11</td>\n",
       "      <td>4.650000</td>\n",
       "      <td>1.000000</td>\n",
       "      <td>1.000000</td>\n",
       "      <td>1.000000</td>\n",
       "      <td>1.000000</td>\n",
       "      <td>1.000000</td>\n",
       "      <td>1.000000</td>\n",
       "      <td>1.000000</td>\n",
       "      <td>1.000000</td>\n",
       "    </tr>\n",
       "  </tbody>\n",
       "</table>\n",
       "</div>"
      ],
      "text/plain": [
       "             amount  current_amount_outstanding  coupon_rate  \\\n",
       "count  7.300000e+01                7.300000e+01    73.000000   \n",
       "mean   4.810644e+09                4.769548e+09     2.552392   \n",
       "std    2.910842e+10                2.911527e+10     1.008660   \n",
       "min    3.500000e+08                0.000000e+00     0.350000   \n",
       "25%    1.000000e+09                1.000000e+09     1.900000   \n",
       "50%    1.250000e+09                1.250000e+09     2.513000   \n",
       "75%    2.000000e+09                1.750000e+09     3.200000   \n",
       "max    2.500000e+11                2.500000e+11     4.650000   \n",
       "\n",
       "       coupon_class_FIX  coupon_class_FLT  currency_CAD  currency_CHF  \\\n",
       "count         73.000000         73.000000     73.000000     73.000000   \n",
       "mean           0.835616          0.164384      0.013699      0.027397   \n",
       "std            0.373188          0.373188      0.117041      0.164368   \n",
       "min            0.000000          0.000000      0.000000      0.000000   \n",
       "25%            1.000000          0.000000      0.000000      0.000000   \n",
       "50%            1.000000          0.000000      0.000000      0.000000   \n",
       "75%            1.000000          0.000000      0.000000      0.000000   \n",
       "max            1.000000          1.000000      1.000000      1.000000   \n",
       "\n",
       "       currency_EUR  currency_GBP  currency_JPY  currency_USD  \n",
       "count     73.000000     73.000000     73.000000     73.000000  \n",
       "mean       0.082192      0.027397      0.013699      0.835616  \n",
       "std        0.276557      0.164368      0.117041      0.373188  \n",
       "min        0.000000      0.000000      0.000000      0.000000  \n",
       "25%        0.000000      0.000000      0.000000      1.000000  \n",
       "50%        0.000000      0.000000      0.000000      1.000000  \n",
       "75%        0.000000      0.000000      0.000000      1.000000  \n",
       "max        1.000000      1.000000      1.000000      1.000000  "
      ]
     },
     "execution_count": 10,
     "metadata": {},
     "output_type": "execute_result"
    }
   ],
   "source": [
    "#Identifying any abnormality in our data\n",
    "#it does not appear to have any outliers as the difference between 75% and max is not too high\n",
    "#However to be more certain we can use box plota nd z score \n",
    "df.describe()"
   ]
  },
  {
   "cell_type": "code",
   "execution_count": 11,
   "metadata": {},
   "outputs": [],
   "source": [
    "X = df.loc[:, df.columns != 'amount']\n",
    "y = df.loc[:, df.columns == 'amount']"
   ]
  },
  {
   "cell_type": "code",
   "execution_count": 12,
   "metadata": {},
   "outputs": [],
   "source": [
    "#Using 70-30 for training and testing\n",
    "from sklearn.model_selection import train_test_split\n",
    "X_train, X_test, y_train, y_test = train_test_split(X, \n",
    "           y, test_size=0.30, \n",
    "            random_state=101)"
   ]
  },
  {
   "cell_type": "code",
   "execution_count": 13,
   "metadata": {},
   "outputs": [
    {
     "data": {
      "text/html": [
       "<div>\n",
       "<style scoped>\n",
       "    .dataframe tbody tr th:only-of-type {\n",
       "        vertical-align: middle;\n",
       "    }\n",
       "\n",
       "    .dataframe tbody tr th {\n",
       "        vertical-align: top;\n",
       "    }\n",
       "\n",
       "    .dataframe thead th {\n",
       "        text-align: right;\n",
       "    }\n",
       "</style>\n",
       "<table border=\"1\" class=\"dataframe\">\n",
       "  <thead>\n",
       "    <tr style=\"text-align: right;\">\n",
       "      <th></th>\n",
       "      <th>current_amount_outstanding</th>\n",
       "      <th>coupon_rate</th>\n",
       "      <th>coupon_class_FIX</th>\n",
       "      <th>coupon_class_FLT</th>\n",
       "      <th>currency_CAD</th>\n",
       "      <th>currency_CHF</th>\n",
       "      <th>currency_EUR</th>\n",
       "      <th>currency_GBP</th>\n",
       "      <th>currency_JPY</th>\n",
       "      <th>currency_USD</th>\n",
       "    </tr>\n",
       "  </thead>\n",
       "  <tbody>\n",
       "    <tr>\n",
       "      <td>33</td>\n",
       "      <td>5.000000e+08</td>\n",
       "      <td>3.13025</td>\n",
       "      <td>0</td>\n",
       "      <td>1</td>\n",
       "      <td>0</td>\n",
       "      <td>0</td>\n",
       "      <td>0</td>\n",
       "      <td>0</td>\n",
       "      <td>0</td>\n",
       "      <td>1</td>\n",
       "    </tr>\n",
       "    <tr>\n",
       "      <td>56</td>\n",
       "      <td>0.000000e+00</td>\n",
       "      <td>1.30000</td>\n",
       "      <td>1</td>\n",
       "      <td>0</td>\n",
       "      <td>0</td>\n",
       "      <td>0</td>\n",
       "      <td>0</td>\n",
       "      <td>0</td>\n",
       "      <td>0</td>\n",
       "      <td>1</td>\n",
       "    </tr>\n",
       "    <tr>\n",
       "      <td>41</td>\n",
       "      <td>4.000000e+09</td>\n",
       "      <td>4.65000</td>\n",
       "      <td>1</td>\n",
       "      <td>0</td>\n",
       "      <td>0</td>\n",
       "      <td>0</td>\n",
       "      <td>0</td>\n",
       "      <td>0</td>\n",
       "      <td>0</td>\n",
       "      <td>1</td>\n",
       "    </tr>\n",
       "    <tr>\n",
       "      <td>45</td>\n",
       "      <td>2.000000e+09</td>\n",
       "      <td>4.37500</td>\n",
       "      <td>1</td>\n",
       "      <td>0</td>\n",
       "      <td>0</td>\n",
       "      <td>0</td>\n",
       "      <td>0</td>\n",
       "      <td>0</td>\n",
       "      <td>0</td>\n",
       "      <td>1</td>\n",
       "    </tr>\n",
       "    <tr>\n",
       "      <td>15</td>\n",
       "      <td>7.500000e+08</td>\n",
       "      <td>2.40000</td>\n",
       "      <td>1</td>\n",
       "      <td>0</td>\n",
       "      <td>0</td>\n",
       "      <td>0</td>\n",
       "      <td>0</td>\n",
       "      <td>0</td>\n",
       "      <td>0</td>\n",
       "      <td>1</td>\n",
       "    </tr>\n",
       "  </tbody>\n",
       "</table>\n",
       "</div>"
      ],
      "text/plain": [
       "    current_amount_outstanding  coupon_rate  coupon_class_FIX  \\\n",
       "33                5.000000e+08      3.13025                 0   \n",
       "56                0.000000e+00      1.30000                 1   \n",
       "41                4.000000e+09      4.65000                 1   \n",
       "45                2.000000e+09      4.37500                 1   \n",
       "15                7.500000e+08      2.40000                 1   \n",
       "\n",
       "    coupon_class_FLT  currency_CAD  currency_CHF  currency_EUR  currency_GBP  \\\n",
       "33                 1             0             0             0             0   \n",
       "56                 0             0             0             0             0   \n",
       "41                 0             0             0             0             0   \n",
       "45                 0             0             0             0             0   \n",
       "15                 0             0             0             0             0   \n",
       "\n",
       "    currency_JPY  currency_USD  \n",
       "33             0             1  \n",
       "56             0             1  \n",
       "41             0             1  \n",
       "45             0             1  \n",
       "15             0             1  "
      ]
     },
     "execution_count": 13,
     "metadata": {},
     "output_type": "execute_result"
    }
   ],
   "source": [
    "X_train.head()\n"
   ]
  },
  {
   "cell_type": "code",
   "execution_count": 14,
   "metadata": {},
   "outputs": [
    {
     "data": {
      "text/plain": [
       "LinearRegression(copy_X=True, fit_intercept=True, n_jobs=None, normalize=False)"
      ]
     },
     "execution_count": 14,
     "metadata": {},
     "output_type": "execute_result"
    }
   ],
   "source": [
    "from sklearn.linear_model import LinearRegression\n",
    "lg = LinearRegression()\n",
    "lg.fit(X_train, y_train)"
   ]
  },
  {
   "cell_type": "code",
   "execution_count": 15,
   "metadata": {},
   "outputs": [],
   "source": [
    "Predictions = lg.predict(X_test)"
   ]
  },
  {
   "cell_type": "code",
   "execution_count": 16,
   "metadata": {},
   "outputs": [
    {
     "data": {
      "text/plain": [
       "array([[2.19654873e+09],\n",
       "       [8.94920516e+08],\n",
       "       [1.72202610e+10],\n",
       "       [1.41564531e+09],\n",
       "       [1.36538957e+09],\n",
       "       [1.89105168e+10],\n",
       "       [2.65366789e+09],\n",
       "       [2.74768819e+09],\n",
       "       [1.43103642e+09],\n",
       "       [1.79617648e+09],\n",
       "       [1.53599786e+09],\n",
       "       [1.05089956e+09],\n",
       "       [1.53154789e+09],\n",
       "       [4.29842587e+08],\n",
       "       [8.83979375e+08],\n",
       "       [2.43484507e+09],\n",
       "       [1.49668326e+09],\n",
       "       [1.75221629e+10],\n",
       "       [2.09158729e+09],\n",
       "       [1.23904791e+09],\n",
       "       [1.38727185e+09],\n",
       "       [8.51155953e+08]])"
      ]
     },
     "execution_count": 16,
     "metadata": {},
     "output_type": "execute_result"
    }
   ],
   "source": [
    "Predictions"
   ]
  },
  {
   "cell_type": "code",
   "execution_count": 39,
   "metadata": {},
   "outputs": [
    {
     "data": {
      "text/plain": [
       "2480054024.353542"
      ]
     },
     "execution_count": 39,
     "metadata": {},
     "output_type": "execute_result"
    }
   ],
   "source": [
    "from sklearn.metrics import mean_absolute_error\n",
    "mean_absolute_error(y_test, Predictions)"
   ]
  },
  {
   "cell_type": "code",
   "execution_count": 35,
   "metadata": {},
   "outputs": [
    {
     "data": {
      "text/plain": [
       "3.782306316484234e+19"
      ]
     },
     "execution_count": 35,
     "metadata": {},
     "output_type": "execute_result"
    }
   ],
   "source": [
    "from sklearn.metrics import mean_squared_error\n",
    "mean_squared_error(y_test, Predictions)"
   ]
  },
  {
   "cell_type": "code",
   "execution_count": 41,
   "metadata": {},
   "outputs": [
    {
     "data": {
      "text/plain": [
       "6150045785.589107"
      ]
     },
     "execution_count": 41,
     "metadata": {},
     "output_type": "execute_result"
    }
   ],
   "source": [
    "from math import sqrt\n",
    "\n",
    "rms = sqrt(mean_squared_error(y_test, Predictions))\n",
    "rms"
   ]
  },
  {
   "cell_type": "code",
   "execution_count": null,
   "metadata": {},
   "outputs": [],
   "source": [
    "#Therefore the best validation metric is MSE. MSE does not penalize large errors as much as RSME. - MSE is best for this problem, as it is normally distributed and it is better to prnalize outliers more in comparism to MAE.\n",
    "#Furthermore hyper parametering can be added to imporve accuracy "
   ]
  },
  {
   "cell_type": "code",
   "execution_count": 37,
   "metadata": {},
   "outputs": [
    {
     "data": {
      "text/plain": [
       "4810643835.616438"
      ]
     },
     "execution_count": 37,
     "metadata": {},
     "output_type": "execute_result"
    }
   ],
   "source": [
    "df['amount'].mean()"
   ]
  },
  {
   "cell_type": "code",
   "execution_count": 28,
   "metadata": {},
   "outputs": [
    {
     "name": "stdout",
     "output_type": "stream",
     "text": [
      "[[7.26197714e-01 2.18822816e+08 9.81081408e+07 9.81081408e+07\n",
      "  3.45230103e-04 1.73232887e+10 1.70127421e+10 0.00000000e+00\n",
      "  5.08822352e+10 1.65462045e+10]]\n"
     ]
    }
   ],
   "source": [
    "weights = lg.coef_\n",
    "abs_weights = np.abs(weights)\n",
    "\n",
    "print(abs_weights)"
   ]
  },
  {
   "cell_type": "code",
   "execution_count": 29,
   "metadata": {},
   "outputs": [
    {
     "data": {
      "text/plain": [
       "array([1.75468161e+10])"
      ]
     },
     "execution_count": 29,
     "metadata": {},
     "output_type": "execute_result"
    }
   ],
   "source": [
    "lg.intercept_"
   ]
  },
  {
   "cell_type": "markdown",
   "metadata": {},
   "source": []
  },
  {
   "cell_type": "code",
   "execution_count": null,
   "metadata": {},
   "outputs": [],
   "source": []
  }
 ],
 "metadata": {
  "kernelspec": {
   "display_name": "Python 3",
   "language": "python",
   "name": "python3"
  },
  "language_info": {
   "codemirror_mode": {
    "name": "ipython",
    "version": 3
   },
   "file_extension": ".py",
   "mimetype": "text/x-python",
   "name": "python",
   "nbconvert_exporter": "python",
   "pygments_lexer": "ipython3",
   "version": "3.7.4"
  }
 },
 "nbformat": 4,
 "nbformat_minor": 2
}
